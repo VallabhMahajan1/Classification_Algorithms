{
 "cells": [
  {
   "cell_type": "code",
   "execution_count": 1,
   "metadata": {},
   "outputs": [],
   "source": [
    "import numpy as np\n",
    "import pandas as pd\n"
   ]
  },
  {
   "cell_type": "code",
   "execution_count": 2,
   "metadata": {},
   "outputs": [],
   "source": [
    "dataMall= pd.read_csv('Social_Network_Ads.csv')"
   ]
  },
  {
   "cell_type": "code",
   "execution_count": 4,
   "metadata": {},
   "outputs": [
    {
     "name": "stdout",
     "output_type": "stream",
     "text": [
      "<class 'pandas.core.frame.DataFrame'>\n",
      "RangeIndex: 400 entries, 0 to 399\n",
      "Data columns (total 5 columns):\n",
      "User ID            400 non-null int64\n",
      "Gender             400 non-null object\n",
      "Age                400 non-null int64\n",
      "EstimatedSalary    400 non-null int64\n",
      "Purchased          400 non-null int64\n",
      "dtypes: int64(4), object(1)\n",
      "memory usage: 15.7+ KB\n"
     ]
    }
   ],
   "source": [
    "#To check Missing data\n",
    "dataMall.info()"
   ]
  },
  {
   "cell_type": "code",
   "execution_count": 5,
   "metadata": {},
   "outputs": [
    {
     "data": {
      "text/plain": [
       "0    257\n",
       "1    143\n",
       "Name: Purchased, dtype: int64"
      ]
     },
     "execution_count": 5,
     "metadata": {},
     "output_type": "execute_result"
    }
   ],
   "source": [
    "#To check whether data is balanced or not\n",
    "dataMall.Purchased.value_counts()"
   ]
  },
  {
   "cell_type": "code",
   "execution_count": 6,
   "metadata": {},
   "outputs": [],
   "source": [
    "#Create features and labels\n",
    "#For classification, features must be 2d array and label must be 1d array\n",
    "features = dataMall.iloc[:,2:4].values\n",
    "label = dataMall.iloc[:,4].values"
   ]
  },
  {
   "cell_type": "code",
   "execution_count": 11,
   "metadata": {},
   "outputs": [],
   "source": [
    "import warnings\n",
    "warnings.filterwarnings('ignore')"
   ]
  },
  {
   "cell_type": "code",
   "execution_count": 12,
   "metadata": {},
   "outputs": [
    {
     "name": "stdout",
     "output_type": "stream",
     "text": [
      "Test Score: 0.6875 Train Score: 0.63125 Random State: 3\n",
      "Test Score: 0.8875 Train Score: 0.834375 Random State: 4\n",
      "Test Score: 0.6625 Train Score: 0.6375 Random State: 5\n",
      "Test Score: 0.675 Train Score: 0.634375 Random State: 7\n",
      "Test Score: 0.675 Train Score: 0.634375 Random State: 8\n",
      "Test Score: 0.65 Train Score: 0.640625 Random State: 10\n",
      "Test Score: 0.6625 Train Score: 0.6375 Random State: 11\n",
      "Test Score: 0.675 Train Score: 0.634375 Random State: 16\n",
      "Test Score: 0.7 Train Score: 0.628125 Random State: 17\n",
      "Test Score: 0.7 Train Score: 0.628125 Random State: 21\n",
      "Test Score: 0.65 Train Score: 0.640625 Random State: 24\n",
      "Test Score: 0.6625 Train Score: 0.6375 Random State: 25\n",
      "Test Score: 0.875 Train Score: 0.834375 Random State: 26\n",
      "Test Score: 0.675 Train Score: 0.634375 Random State: 27\n",
      "Test Score: 0.7 Train Score: 0.628125 Random State: 28\n",
      "Test Score: 0.6875 Train Score: 0.63125 Random State: 29\n",
      "Test Score: 0.6875 Train Score: 0.63125 Random State: 31\n",
      "Test Score: 0.6625 Train Score: 0.6375 Random State: 37\n",
      "Test Score: 0.675 Train Score: 0.640625 Random State: 39\n",
      "Test Score: 0.7 Train Score: 0.628125 Random State: 40\n",
      "Test Score: 0.6625 Train Score: 0.64375 Random State: 42\n",
      "Test Score: 0.85 Train Score: 0.790625 Random State: 46\n",
      "Test Score: 0.65 Train Score: 0.640625 Random State: 48\n",
      "Test Score: 0.675 Train Score: 0.634375 Random State: 50\n",
      "Test Score: 0.65 Train Score: 0.640625 Random State: 51\n",
      "Test Score: 0.65 Train Score: 0.640625 Random State: 54\n",
      "Test Score: 0.65 Train Score: 0.64375 Random State: 56\n",
      "Test Score: 0.6625 Train Score: 0.6375 Random State: 58\n",
      "Test Score: 0.6875 Train Score: 0.6375 Random State: 59\n",
      "Test Score: 0.7 Train Score: 0.628125 Random State: 60\n",
      "Test Score: 0.6625 Train Score: 0.6375 Random State: 62\n",
      "Test Score: 0.6875 Train Score: 0.63125 Random State: 63\n",
      "Test Score: 0.65 Train Score: 0.640625 Random State: 66\n",
      "Test Score: 0.65 Train Score: 0.640625 Random State: 74\n",
      "Test Score: 0.65 Train Score: 0.640625 Random State: 75\n",
      "Test Score: 0.6875 Train Score: 0.63125 Random State: 76\n",
      "Test Score: 0.6875 Train Score: 0.63125 Random State: 80\n",
      "Test Score: 0.675 Train Score: 0.634375 Random State: 81\n",
      "Test Score: 0.7 Train Score: 0.628125 Random State: 83\n",
      "Test Score: 0.675 Train Score: 0.634375 Random State: 84\n",
      "Test Score: 0.675 Train Score: 0.634375 Random State: 86\n",
      "Test Score: 0.65 Train Score: 0.640625 Random State: 87\n",
      "Test Score: 0.675 Train Score: 0.634375 Random State: 90\n",
      "Test Score: 0.675 Train Score: 0.640625 Random State: 91\n",
      "Test Score: 0.7 Train Score: 0.628125 Random State: 93\n",
      "Test Score: 0.85 Train Score: 0.834375 Random State: 94\n",
      "Test Score: 0.65 Train Score: 0.640625 Random State: 97\n",
      "Test Score: 0.7875 Train Score: 0.784375 Random State: 99\n",
      "Test Score: 0.675 Train Score: 0.634375 Random State: 101\n",
      "Test Score: 0.6625 Train Score: 0.6375 Random State: 102\n",
      "Test Score: 0.725 Train Score: 0.621875 Random State: 103\n",
      "Test Score: 0.65 Train Score: 0.640625 Random State: 106\n",
      "Test Score: 0.65 Train Score: 0.640625 Random State: 109\n",
      "Test Score: 0.675 Train Score: 0.634375 Random State: 116\n",
      "Test Score: 0.65 Train Score: 0.640625 Random State: 117\n",
      "Test Score: 0.675 Train Score: 0.634375 Random State: 119\n",
      "Test Score: 0.65 Train Score: 0.640625 Random State: 120\n",
      "Test Score: 0.6625 Train Score: 0.6375 Random State: 121\n",
      "Test Score: 0.725 Train Score: 0.653125 Random State: 125\n",
      "Test Score: 0.65 Train Score: 0.640625 Random State: 127\n",
      "Test Score: 0.65 Train Score: 0.640625 Random State: 128\n",
      "Test Score: 0.6875 Train Score: 0.63125 Random State: 129\n",
      "Test Score: 0.6875 Train Score: 0.63125 Random State: 130\n",
      "Test Score: 0.6625 Train Score: 0.6375 Random State: 132\n",
      "Test Score: 0.6875 Train Score: 0.63125 Random State: 133\n",
      "Test Score: 0.675 Train Score: 0.634375 Random State: 134\n",
      "Test Score: 0.675 Train Score: 0.640625 Random State: 138\n",
      "Test Score: 0.7 Train Score: 0.628125 Random State: 139\n",
      "Test Score: 0.8375 Train Score: 0.80625 Random State: 141\n",
      "Test Score: 0.725 Train Score: 0.621875 Random State: 142\n",
      "Test Score: 0.6625 Train Score: 0.6375 Random State: 143\n",
      "Test Score: 0.6625 Train Score: 0.6375 Random State: 145\n",
      "Test Score: 0.875 Train Score: 0.8125 Random State: 150\n",
      "Test Score: 0.65 Train Score: 0.640625 Random State: 152\n",
      "Test Score: 0.6625 Train Score: 0.6375 Random State: 154\n",
      "Test Score: 0.675 Train Score: 0.634375 Random State: 155\n",
      "Test Score: 0.6625 Train Score: 0.6375 Random State: 159\n",
      "Test Score: 0.7125 Train Score: 0.625 Random State: 161\n",
      "Test Score: 0.675 Train Score: 0.634375 Random State: 162\n",
      "Test Score: 0.6625 Train Score: 0.6375 Random State: 163\n",
      "Test Score: 0.65 Train Score: 0.640625 Random State: 165\n",
      "Test Score: 0.6625 Train Score: 0.6375 Random State: 169\n",
      "Test Score: 0.675 Train Score: 0.634375 Random State: 170\n",
      "Test Score: 0.7125 Train Score: 0.625 Random State: 173\n",
      "Test Score: 0.65 Train Score: 0.640625 Random State: 176\n",
      "Test Score: 0.6625 Train Score: 0.6375 Random State: 178\n",
      "Test Score: 0.6625 Train Score: 0.6375 Random State: 179\n",
      "Test Score: 0.6625 Train Score: 0.6375 Random State: 180\n",
      "Test Score: 0.6625 Train Score: 0.6375 Random State: 181\n",
      "Test Score: 0.65 Train Score: 0.640625 Random State: 184\n",
      "Test Score: 0.6625 Train Score: 0.6375 Random State: 185\n",
      "Test Score: 0.675 Train Score: 0.634375 Random State: 188\n",
      "Test Score: 0.7375 Train Score: 0.61875 Random State: 189\n",
      "Test Score: 0.7 Train Score: 0.628125 Random State: 192\n",
      "Test Score: 0.65 Train Score: 0.640625 Random State: 193\n",
      "Test Score: 0.6875 Train Score: 0.63125 Random State: 194\n",
      "Test Score: 0.65 Train Score: 0.640625 Random State: 195\n",
      "Test Score: 0.6625 Train Score: 0.6375 Random State: 196\n",
      "Test Score: 0.675 Train Score: 0.634375 Random State: 198\n",
      "Test Score: 0.7625 Train Score: 0.734375 Random State: 204\n",
      "Test Score: 0.6625 Train Score: 0.6375 Random State: 209\n",
      "Test Score: 0.7 Train Score: 0.628125 Random State: 211\n",
      "Test Score: 0.65 Train Score: 0.640625 Random State: 212\n",
      "Test Score: 0.6625 Train Score: 0.6375 Random State: 215\n",
      "Test Score: 0.6625 Train Score: 0.6375 Random State: 217\n",
      "Test Score: 0.6875 Train Score: 0.63125 Random State: 220\n",
      "Test Score: 0.6625 Train Score: 0.6375 Random State: 223\n",
      "Test Score: 0.6625 Train Score: 0.6375 Random State: 225\n",
      "Test Score: 0.6625 Train Score: 0.6375 Random State: 226\n",
      "Test Score: 0.6875 Train Score: 0.63125 Random State: 229\n",
      "Test Score: 0.65 Train Score: 0.640625 Random State: 232\n",
      "Test Score: 0.7125 Train Score: 0.625 Random State: 233\n",
      "Test Score: 0.6625 Train Score: 0.6375 Random State: 234\n",
      "Test Score: 0.6625 Train Score: 0.6375 Random State: 235\n",
      "Test Score: 0.6875 Train Score: 0.63125 Random State: 238\n",
      "Test Score: 0.65 Train Score: 0.640625 Random State: 241\n",
      "Test Score: 0.725 Train Score: 0.621875 Random State: 242\n",
      "Test Score: 0.6625 Train Score: 0.6375 Random State: 244\n",
      "Test Score: 0.675 Train Score: 0.634375 Random State: 245\n",
      "Test Score: 0.6875 Train Score: 0.63125 Random State: 246\n",
      "Test Score: 0.7 Train Score: 0.628125 Random State: 247\n",
      "Test Score: 0.6875 Train Score: 0.63125 Random State: 248\n",
      "Test Score: 0.65 Train Score: 0.640625 Random State: 251\n",
      "Test Score: 0.7 Train Score: 0.628125 Random State: 252\n",
      "Test Score: 0.65 Train Score: 0.640625 Random State: 253\n",
      "Test Score: 0.675 Train Score: 0.640625 Random State: 255\n",
      "Test Score: 0.75 Train Score: 0.615625 Random State: 257\n",
      "Test Score: 0.7 Train Score: 0.628125 Random State: 260\n",
      "Test Score: 0.65 Train Score: 0.640625 Random State: 263\n",
      "Test Score: 0.6625 Train Score: 0.6375 Random State: 265\n",
      "Test Score: 0.6875 Train Score: 0.63125 Random State: 269\n",
      "Test Score: 0.6625 Train Score: 0.6375 Random State: 275\n",
      "Test Score: 0.7 Train Score: 0.628125 Random State: 276\n",
      "Test Score: 0.6625 Train Score: 0.6375 Random State: 277\n",
      "Test Score: 0.7 Train Score: 0.628125 Random State: 278\n",
      "Test Score: 0.7125 Train Score: 0.625 Random State: 279\n",
      "Test Score: 0.6875 Train Score: 0.63125 Random State: 282\n",
      "Test Score: 0.6875 Train Score: 0.63125 Random State: 283\n",
      "Test Score: 0.85 Train Score: 0.846875 Random State: 287\n",
      "Test Score: 0.6625 Train Score: 0.6375 Random State: 292\n",
      "Test Score: 0.65 Train Score: 0.640625 Random State: 293\n",
      "Test Score: 0.6625 Train Score: 0.6375 Random State: 294\n",
      "Test Score: 0.675 Train Score: 0.634375 Random State: 296\n",
      "Test Score: 0.675 Train Score: 0.634375 Random State: 300\n",
      "Test Score: 0.675 Train Score: 0.634375 Random State: 302\n",
      "Test Score: 0.6625 Train Score: 0.6375 Random State: 303\n",
      "Test Score: 0.725 Train Score: 0.628125 Random State: 305\n",
      "Test Score: 0.6875 Train Score: 0.63125 Random State: 306\n",
      "Test Score: 0.7 Train Score: 0.634375 Random State: 310\n",
      "Test Score: 0.7125 Train Score: 0.625 Random State: 311\n",
      "Test Score: 0.75 Train Score: 0.734375 Random State: 313\n",
      "Test Score: 0.7 Train Score: 0.628125 Random State: 315\n",
      "Test Score: 0.6625 Train Score: 0.6375 Random State: 317\n",
      "Test Score: 0.6625 Train Score: 0.6375 Random State: 319\n",
      "Test Score: 0.65 Train Score: 0.640625 Random State: 321\n",
      "Test Score: 0.7125 Train Score: 0.625 Random State: 322\n",
      "Test Score: 0.675 Train Score: 0.634375 Random State: 323\n",
      "Test Score: 0.6625 Train Score: 0.6375 Random State: 325\n",
      "Test Score: 0.7125 Train Score: 0.625 Random State: 327\n",
      "Test Score: 0.6625 Train Score: 0.6375 Random State: 328\n",
      "Test Score: 0.7 Train Score: 0.628125 Random State: 329\n",
      "Test Score: 0.65 Train Score: 0.640625 Random State: 330\n",
      "Test Score: 0.65 Train Score: 0.640625 Random State: 332\n",
      "Test Score: 0.65 Train Score: 0.646875 Random State: 335\n",
      "Test Score: 0.675 Train Score: 0.634375 Random State: 336\n",
      "Test Score: 0.7 Train Score: 0.634375 Random State: 340\n",
      "Test Score: 0.65 Train Score: 0.640625 Random State: 344\n",
      "Test Score: 0.6625 Train Score: 0.6375 Random State: 345\n",
      "Test Score: 0.7 Train Score: 0.628125 Random State: 346\n",
      "Test Score: 0.65 Train Score: 0.640625 Random State: 348\n",
      "Test Score: 0.8375 Train Score: 0.828125 Random State: 349\n",
      "Test Score: 0.6875 Train Score: 0.63125 Random State: 350\n"
     ]
    },
    {
     "name": "stdout",
     "output_type": "stream",
     "text": [
      "Test Score: 0.675 Train Score: 0.634375 Random State: 352\n",
      "Test Score: 0.675 Train Score: 0.634375 Random State: 354\n",
      "Test Score: 0.6875 Train Score: 0.63125 Random State: 355\n",
      "Test Score: 0.6625 Train Score: 0.6375 Random State: 356\n",
      "Test Score: 0.7375 Train Score: 0.61875 Random State: 357\n",
      "Test Score: 0.6625 Train Score: 0.6375 Random State: 358\n",
      "Test Score: 0.6625 Train Score: 0.64375 Random State: 359\n",
      "Test Score: 0.7 Train Score: 0.628125 Random State: 360\n",
      "Test Score: 0.65 Train Score: 0.640625 Random State: 361\n",
      "Test Score: 0.6625 Train Score: 0.6375 Random State: 362\n",
      "Test Score: 0.65 Train Score: 0.640625 Random State: 363\n",
      "Test Score: 0.6625 Train Score: 0.6375 Random State: 364\n",
      "Test Score: 0.6875 Train Score: 0.63125 Random State: 365\n",
      "Test Score: 0.675 Train Score: 0.640625 Random State: 366\n",
      "Test Score: 0.6625 Train Score: 0.6375 Random State: 368\n",
      "Test Score: 0.65 Train Score: 0.640625 Random State: 370\n",
      "Test Score: 0.725 Train Score: 0.621875 Random State: 371\n",
      "Test Score: 0.65 Train Score: 0.640625 Random State: 373\n",
      "Test Score: 0.7 Train Score: 0.628125 Random State: 376\n",
      "Test Score: 0.675 Train Score: 0.634375 Random State: 379\n",
      "Test Score: 0.65 Train Score: 0.646875 Random State: 387\n",
      "Test Score: 0.6625 Train Score: 0.6375 Random State: 393\n",
      "Test Score: 0.7625 Train Score: 0.759375 Random State: 396\n",
      "Test Score: 0.7 Train Score: 0.628125 Random State: 397\n",
      "Test Score: 0.7125 Train Score: 0.63125 Random State: 400\n"
     ]
    }
   ],
   "source": [
    "##for loop\n",
    "from sklearn.model_selection import train_test_split\n",
    "from sklearn.linear_model import LogisticRegression\n",
    "\n",
    "for i in range(1,401):\n",
    "    X_train,X_test,y_train,y_test=train_test_split(features,\n",
    "                                                  label,\n",
    "                                                  test_size=0.2,\n",
    "                                                  random_state=i)\n",
    "    \n",
    "    model = LogisticRegression()\n",
    "    model.fit(X_train,y_train)\n",
    "    \n",
    "    train_score=model.score(X_train,y_train)\n",
    "    test_score=model.score(X_test,y_test)\n",
    "    \n",
    "    if test_score > train_score:\n",
    "        print(\"Test Score: {} Train Score: {} Random State: {}\".format(test_score,train_score,i))\n"
   ]
  },
  {
   "cell_type": "code",
   "execution_count": 23,
   "metadata": {},
   "outputs": [
    {
     "data": {
      "text/plain": [
       "LogisticRegression(C=1.0, class_weight=None, dual=False, fit_intercept=True,\n",
       "          intercept_scaling=1, max_iter=100, multi_class='warn',\n",
       "          n_jobs=None, penalty='l2', random_state=None, solver='warn',\n",
       "          tol=0.0001, verbose=0, warm_start=False)"
      ]
     },
     "execution_count": 23,
     "metadata": {},
     "output_type": "execute_result"
    }
   ],
   "source": [
    "X_train,X_test,y_train,y_test=train_test_split(features,\n",
    "                                                  label,\n",
    "                                                  test_size=0.2,\n",
    "                                                  random_state=26)\n",
    "    \n",
    "model = LogisticRegression()\n",
    "model.fit(X_train,y_train)\n",
    "    "
   ]
  },
  {
   "cell_type": "code",
   "execution_count": 24,
   "metadata": {},
   "outputs": [
    {
     "data": {
      "text/plain": [
       "0.834375"
      ]
     },
     "execution_count": 24,
     "metadata": {},
     "output_type": "execute_result"
    }
   ],
   "source": [
    "model.score(X_train,y_train)"
   ]
  },
  {
   "cell_type": "code",
   "execution_count": 25,
   "metadata": {},
   "outputs": [
    {
     "data": {
      "text/plain": [
       "0.875"
      ]
     },
     "execution_count": 25,
     "metadata": {},
     "output_type": "execute_result"
    }
   ],
   "source": [
    "model.score(X_test,y_test)"
   ]
  },
  {
   "cell_type": "code",
   "execution_count": 26,
   "metadata": {},
   "outputs": [
    {
     "data": {
      "text/plain": [
       "array([[237,  20],\n",
       "       [ 43, 100]], dtype=int64)"
      ]
     },
     "execution_count": 26,
     "metadata": {},
     "output_type": "execute_result"
    }
   ],
   "source": [
    "from sklearn.metrics import confusion_matrix\n",
    "cm = confusion_matrix(label,model.predict(features))\n",
    "cm"
   ]
  },
  {
   "cell_type": "code",
   "execution_count": 22,
   "metadata": {},
   "outputs": [
    {
     "name": "stdout",
     "output_type": "stream",
     "text": [
      "              precision    recall  f1-score   support\n",
      "\n",
      "           0       0.85      0.93      0.88       257\n",
      "           1       0.84      0.70      0.76       143\n",
      "\n",
      "   micro avg       0.84      0.84      0.84       400\n",
      "   macro avg       0.84      0.81      0.82       400\n",
      "weighted avg       0.84      0.84      0.84       400\n",
      "\n"
     ]
    }
   ],
   "source": [
    "from sklearn.metrics import classification_report\n",
    "#print(classification_report())\n",
    "print(classification_report(label,model.predict(features)))"
   ]
  },
  {
   "cell_type": "code",
   "execution_count": 27,
   "metadata": {},
   "outputs": [
    {
     "data": {
      "text/plain": [
       "KNeighborsClassifier(algorithm='auto', leaf_size=30, metric='minkowski',\n",
       "           metric_params=None, n_jobs=None, n_neighbors=3, p=2,\n",
       "           weights='uniform')"
      ]
     },
     "execution_count": 27,
     "metadata": {},
     "output_type": "execute_result"
    }
   ],
   "source": [
    "from sklearn.neighbors import KNeighborsClassifier\n",
    "model2 = KNeighborsClassifier(n_neighbors=3)\n",
    "model2.fit(X_train,y_train)"
   ]
  },
  {
   "cell_type": "code",
   "execution_count": null,
   "metadata": {},
   "outputs": [],
   "source": []
  },
  {
   "cell_type": "code",
   "execution_count": 28,
   "metadata": {},
   "outputs": [
    {
     "data": {
      "text/plain": [
       "0.884375"
      ]
     },
     "execution_count": 28,
     "metadata": {},
     "output_type": "execute_result"
    }
   ],
   "source": [
    "model2.score(X_train,y_train)"
   ]
  },
  {
   "cell_type": "code",
   "execution_count": 29,
   "metadata": {},
   "outputs": [
    {
     "data": {
      "text/plain": [
       "0.825"
      ]
     },
     "execution_count": 29,
     "metadata": {},
     "output_type": "execute_result"
    }
   ],
   "source": [
    "model2.score(X_test,y_test)"
   ]
  },
  {
   "cell_type": "code",
   "execution_count": 30,
   "metadata": {},
   "outputs": [
    {
     "name": "stdout",
     "output_type": "stream",
     "text": [
      "Test Score: 0.8875 Train Score: 0.871875 Random State: 68\n",
      "Test Score: 0.8875 Train Score: 0.878125 Random State: 116\n",
      "Test Score: 0.8875 Train Score: 0.878125 Random State: 306\n",
      "Test Score: 0.9 Train Score: 0.86875 Random State: 323\n"
     ]
    }
   ],
   "source": [
    "from sklearn.model_selection import train_test_split\n",
    "from sklearn.neighbors import KNeighborsClassifier\n",
    "\n",
    "for i in range(1,401):\n",
    "    X_train,X_test,y_train,y_test=train_test_split(features,\n",
    "                                                  label,\n",
    "                                                  test_size=0.2,\n",
    "                                                  random_state=i)\n",
    "    \n",
    "    model = KNeighborsClassifier(n_neighbors=3)\n",
    "    model.fit(X_train,y_train)\n",
    "    \n",
    "    train_score=model.score(X_train,y_train)\n",
    "    test_score=model.score(X_test,y_test)\n",
    "    \n",
    "    if test_score > train_score:\n",
    "        print(\"Test Score: {} Train Score: {} Random State: {}\".format(test_score,train_score,i))\n"
   ]
  },
  {
   "cell_type": "code",
   "execution_count": 31,
   "metadata": {},
   "outputs": [],
   "source": [
    "X_train,X_test,y_train,y_test=train_test_split(features,\n",
    "                                                  label,\n",
    "                                                  test_size=0.2,\n",
    "                                                  random_state=323)\n",
    "    "
   ]
  },
  {
   "cell_type": "code",
   "execution_count": 47,
   "metadata": {},
   "outputs": [],
   "source": [
    "from sklearn.neighbors import KNeighborsClassifier\n",
    "from sklearn.metrics import confusion_matrix\n",
    "for i in range(201,321,2):\n",
    "    model2 = KNeighborsClassifier(n_neighbors=i)\n",
    "    model2.fit(X_train,y_train)\n",
    "    cm = confusion_matrix(label,model2.predict(features))\n",
    "    if cm[1][0] < 20:\n",
    "        print(\"Neighbour {} for cm value {}\".format(i,cm[1][0]))"
   ]
  },
  {
   "cell_type": "code",
   "execution_count": 33,
   "metadata": {},
   "outputs": [
    {
     "data": {
      "text/plain": [
       "0.86875"
      ]
     },
     "execution_count": 33,
     "metadata": {},
     "output_type": "execute_result"
    }
   ],
   "source": [
    "model2.score(X_train,y_train)"
   ]
  },
  {
   "cell_type": "code",
   "execution_count": 34,
   "metadata": {},
   "outputs": [
    {
     "data": {
      "text/plain": [
       "0.9"
      ]
     },
     "execution_count": 34,
     "metadata": {},
     "output_type": "execute_result"
    }
   ],
   "source": [
    "model2.score(X_test,y_test)"
   ]
  },
  {
   "cell_type": "code",
   "execution_count": 35,
   "metadata": {},
   "outputs": [
    {
     "data": {
      "text/plain": [
       "array([[239,  18],\n",
       "       [ 32, 111]], dtype=int64)"
      ]
     },
     "execution_count": 35,
     "metadata": {},
     "output_type": "execute_result"
    }
   ],
   "source": [
    "from sklearn.metrics import confusion_matrix\n",
    "cm = confusion_matrix(label,model2.predict(features))\n",
    "cm"
   ]
  },
  {
   "cell_type": "code",
   "execution_count": 40,
   "metadata": {},
   "outputs": [
    {
     "data": {
      "text/plain": [
       "32"
      ]
     },
     "execution_count": 40,
     "metadata": {},
     "output_type": "execute_result"
    }
   ],
   "source": [
    "cm[1][0]"
   ]
  },
  {
   "cell_type": "code",
   "execution_count": null,
   "metadata": {},
   "outputs": [],
   "source": []
  }
 ],
 "metadata": {
  "kernelspec": {
   "display_name": "Python 3",
   "language": "python",
   "name": "python3"
  },
  "language_info": {
   "codemirror_mode": {
    "name": "ipython",
    "version": 3
   },
   "file_extension": ".py",
   "mimetype": "text/x-python",
   "name": "python",
   "nbconvert_exporter": "python",
   "pygments_lexer": "ipython3",
   "version": "3.7.3"
  }
 },
 "nbformat": 4,
 "nbformat_minor": 2
}
